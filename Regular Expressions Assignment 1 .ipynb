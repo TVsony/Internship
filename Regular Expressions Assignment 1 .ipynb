{
 "cells": [
  {
   "cell_type": "code",
   "execution_count": 1,
   "id": "a5d3522e",
   "metadata": {},
   "outputs": [],
   "source": [
    "import regex as re \n",
    "import pandas as pd \n",
    "import numpy as np\n",
    "from datetime import datetime\n",
    "import ipaddress"
   ]
  },
  {
   "cell_type": "code",
   "execution_count": 2,
   "id": "4632cee1",
   "metadata": {},
   "outputs": [
    {
     "name": "stdout",
     "output_type": "stream",
     "text": [
      "Python:Exercises::PHP:exercises\n"
     ]
    }
   ],
   "source": [
    "# Q . 1 Write Python Program to replace all occurrences of a space ,comma or dot with a colon.\n",
    "text = 'Python Exercises, PHP exercises'\n",
    "\n",
    "new_text = text.replace(\" \",\":\")\n",
    "\n",
    "new_txt = new_text.replace(\",\",\":\")\n",
    "\n",
    "print(new_txt)"
   ]
  },
  {
   "cell_type": "code",
   "execution_count": 3,
   "id": "939c24cc",
   "metadata": {},
   "outputs": [
    {
     "name": "stdout",
     "output_type": "stream",
     "text": [
      "         SUMMARY\n",
      "0    hello world\n",
      "1           test\n",
      "2  four five six\n"
     ]
    }
   ],
   "source": [
    "#Q.2 Create a dataframe using the dictionary below and remove everything (commas (,), !, XXXX, ;, etc.) \n",
    "# from the columns except words.\n",
    "\n",
    "\n",
    "dict = {'SUMMARY': ['hello, world!', 'XXXXX test', '123four, five:; six...']}\n",
    "\n",
    "df = pd.DataFrame(dict)\n",
    "\n",
    "df['SUMMARY'] = df['SUMMARY'].str.replace('XXXXX', '     ')\n",
    "\n",
    "df['SUMMARY'] = df['SUMMARY'].str.replace('[^a-zA-Z\\s]', '', regex=True)\n",
    "\n",
    "print(df)\n"
   ]
  },
  {
   "cell_type": "code",
   "execution_count": 4,
   "id": "a76916b0",
   "metadata": {},
   "outputs": [
    {
     "name": "stdout",
     "output_type": "stream",
     "text": [
      "Yes at least 4 characters Match! ['Chandrayaan', 'follow', 'mission', 'Chandrayaan', 'demonstrate', 'capability', 'safe', 'landing']\n"
     ]
    }
   ],
   "source": [
    "# Q.3Create a function in python to find all words that are at least 4 characters long in a string. \n",
    "# The use of the re.compile() method is mandatory.\n",
    "\n",
    "\n",
    "\n",
    "def words (str):\n",
    "    \n",
    "    str_pattern = r'\\b\\w{4,}\\b'\n",
    "    \n",
    "    X = re.compile(str_pattern)\n",
    "  \n",
    "    matches = X.findall(str)\n",
    "    \n",
    "    return matches\n",
    "\n",
    "str = \"Chandrayaan-3 is a follow-on mission to Chandrayaan-2 to demonstrate end-to-end capability in safe landing\"\n",
    "\n",
    "results = words(str)\n",
    "\n",
    "if results:\n",
    "    print(\"Yes at least 4 characters Match!\",results)\n",
    "    \n",
    "else:\n",
    "    print(\"No match found.\")\n"
   ]
  },
  {
   "cell_type": "code",
   "execution_count": 5,
   "id": "3ae958c9",
   "metadata": {},
   "outputs": [
    {
     "name": "stdout",
     "output_type": "stream",
     "text": [
      "Yes at least characters Match! ['end', 'end', 'safe', 'nice']\n"
     ]
    }
   ],
   "source": [
    "# Q 4 Create a function in python to find all three, four, and five character words in a string. \n",
    "# The use of the re.compile() method is mandatory.\n",
    "\n",
    "str = \"Chandrayaan-3 is a follow-on mission to Chandrayaan-2 to demonstrate end-to-end capability in safe nice landing\"\n",
    "\n",
    "\n",
    "def words (str):\n",
    "    \n",
    "    str_pattern = r'\\b\\w{3,5}\\b'\n",
    "    \n",
    "    X = re.compile(str_pattern)\n",
    "    \n",
    "    matches = X.findall(str)\n",
    "    \n",
    "    return matches\n",
    "\n",
    "\n",
    "results = words(str)\n",
    "\n",
    "if results:\n",
    "    print(\"Yes at least characters Match!\",results)\n",
    "    \n",
    "else:\n",
    "    print(\"No match found.\")\n"
   ]
  },
  {
   "cell_type": "code",
   "execution_count": 6,
   "id": "d8b766da",
   "metadata": {},
   "outputs": [
    {
     "name": "stdout",
     "output_type": "stream",
     "text": [
      "example .com\n",
      "hr@fliprobo .com\n",
      "github .com\n",
      "Hello Data Science World\n",
      "Data Scientist\n",
      "Yes Bracket are removed!\n"
     ]
    }
   ],
   "source": [
    "# Q.5 Create a function in Python to remove the parenthesis in a list of strings.\n",
    "# The use of the re.compile() method is mandatory.\n",
    "\n",
    "text = [\"example (.com)\", \"hr@fliprobo (.com)\", \"github (.com)\", \"Hello (Data Science World)\", \"Data (Scientist)\"]\n",
    "\n",
    "\n",
    "\n",
    "def bracket (text):\n",
    "    \n",
    "    pattern = re.compile(r'\\(([^)]*)\\)')\n",
    "    \n",
    "    new_text = [pattern.sub(r'\\1',s) for s in text]  \n",
    "    \n",
    "    return new_text\n",
    "                         \n",
    "    \n",
    "results = bracket(text)\n",
    "\n",
    "for new_text in results:\n",
    "    \n",
    "    print(new_text)\n",
    "     \n",
    "                         \n",
    "if results:\n",
    "                        \n",
    "    print(\"Yes Bracket are removed!\")\n",
    "                         \n",
    "else:\n",
    "    print(\"No Bracket removed\")                         \n",
    "                         \n",
    " "
   ]
  },
  {
   "cell_type": "code",
   "execution_count": 7,
   "id": "b168ddb0",
   "metadata": {},
   "outputs": [
    {
     "name": "stdout",
     "output_type": "stream",
     "text": [
      "['example', 'hr@fliprobo', 'github', 'Hello', 'Data']\n"
     ]
    }
   ],
   "source": [
    "# Q 6 Write a python program to remove the parenthesis area from the text stored in the text file using Regular Expression.\n",
    "# Sample Text: [\"example (.com)\", \"hr@fliprobo (.com)\", \"github (.com)\", \"Hello (Data Science World)\", \"Data (Scientist)\"]\n",
    "# Expected Output: [\"example\", \"hr@fliprobo\", \"github\", \"Hello\", \"Data\"]\n",
    "# Note- Store given sample text in the text file and then to remove the parenthesis area from the text.\n",
    "\n",
    "def remove_parentheses_from_text_file(old_file_path, new_file_path):\n",
    "    \n",
    "    with open(old_file_path, \"r\") as file:\n",
    "        \n",
    "        lines = file.readlines()\n",
    "\n",
    "    pattern = re.compile(r\"\\([^)]*\\)\")\n",
    "    \n",
    "    new_lines = [pattern.sub(\"\", line).strip() for line in lines]\n",
    "\n",
    "    with open(new_file_path, \"w\") as output_file:\n",
    "        \n",
    "        output_file.write('\\n'.join(new_lines))\n",
    "        \n",
    "        print(new_lines)\n",
    "\n",
    "\n",
    "old_file_path = \"old_text.txt\"\n",
    "\n",
    "new_file_path = \"new_text.txt\"\n",
    "\n",
    "\n",
    "target_string = [\"example (.com)\", \"hr@fliprobo (.com)\", \"github (.com)\", \"Hello (Data Science World)\", \"Data (Scientist)\"]\n",
    "\n",
    "with open(old_file_path, \"w\") as file:\n",
    "    \n",
    "    for line in target_string:\n",
    "        \n",
    "        file.write(line + \"\\n\")\n",
    "\n",
    "remove_parentheses_from_text_file(old_file_path, new_file_path)"
   ]
  },
  {
   "cell_type": "code",
   "execution_count": 8,
   "id": "7a1a638a",
   "metadata": {},
   "outputs": [
    {
     "name": "stdout",
     "output_type": "stream",
     "text": [
      "['Importance', 'Of', 'Regular', 'Expressions', 'In', 'Python']\n"
     ]
    }
   ],
   "source": [
    "# Q 7 Write a regular expression in Python to split a string into uppercase letters.\n",
    "# Sample text: “ImportanceOfRegularExpressionsInPython”\n",
    "\n",
    "txt = \"ImportanceOfRegularExpressionsInPython\"\n",
    "\n",
    "results = re.findall(r'[A-Z][a-z]*',txt)\n",
    "\n",
    "print(results)"
   ]
  },
  {
   "cell_type": "code",
   "execution_count": 9,
   "id": "5d30e597",
   "metadata": {},
   "outputs": [
    {
     "name": "stdout",
     "output_type": "stream",
     "text": [
      "Regular Expression 1 Is An 2 Important Topic 3 In Python\n"
     ]
    }
   ],
   "source": [
    "# Q 8 Create a function in python to insert spaces between words starting with capital letters or with numbers.\n",
    "# Sample Text: “RegularExpression1IsAn2ImportantTopic3InPython\"\n",
    "\n",
    "def insert_spaces(text):\n",
    "    result = ''\n",
    "    for char in text:\n",
    "        if char.isupper() or char.isdigit():\n",
    "            result += ' ' + char\n",
    "        else:\n",
    "            result += char\n",
    "    return result.strip()\n",
    "\n",
    "# Sample text\n",
    "sample_text = \"RegularExpression1IsAn2ImportantTopic3InPython\"\n",
    "\n",
    "# Get the expected output\n",
    "output = insert_spaces(sample_text)\n",
    "\n",
    "# Display the result\n",
    "print(output)\n"
   ]
  },
  {
   "cell_type": "code",
   "execution_count": 10,
   "id": "6c53d0d1",
   "metadata": {},
   "outputs": [
    {
     "name": "stdout",
     "output_type": "stream",
     "text": [
      "       Country          Region  Happiness Rank  Happiness Score  \\\n",
      "0  Switzerland  Western Europe               1            7.587   \n",
      "1      Iceland  Western Europe               2            7.561   \n",
      "2      Denmark  Western Europe               3            7.527   \n",
      "3       Norway  Western Europe               4            7.522   \n",
      "4       Canada   North America               5            7.427   \n",
      "\n",
      "   Standard Error  Economy (GDP per Capita)   Family  \\\n",
      "0         0.03411                   1.39651  1.34951   \n",
      "1         0.04884                   1.30232  1.40223   \n",
      "2         0.03328                   1.32548  1.36058   \n",
      "3         0.03880                   1.45900  1.33095   \n",
      "4         0.03553                   1.32629  1.32261   \n",
      "\n",
      "   Health (Life Expectancy)  Freedom  Trust (Government Corruption)  \\\n",
      "0                   0.94143  0.66557                        0.41978   \n",
      "1                   0.94784  0.62877                        0.14145   \n",
      "2                   0.87464  0.64938                        0.48357   \n",
      "3                   0.88521  0.66973                        0.36503   \n",
      "4                   0.90563  0.63297                        0.32957   \n",
      "\n",
      "   Generosity  Dystopia Residual first_five_letters  \n",
      "0     0.29678            2.51738             Switze  \n",
      "1     0.43630            2.70201             Icelan  \n",
      "2     0.34139            2.49204             Denmar  \n",
      "3     0.34699            2.46531             Norway  \n",
      "4     0.45811            2.45176             Canada  \n"
     ]
    }
   ],
   "source": [
    "# Q 9 Use the github link below to read the data and create a dataframe. \n",
    "# After creating the dataframe extract the first 6 letters of each country \n",
    "# and store in the dataframe under a new column called first_five_letters.\n",
    "\n",
    "# Github Link-  https://raw.githubusercontent.com/dsrscientist/DSData/master/happiness_score_dataset.csv\n",
    "\n",
    "\n",
    "url = \"https://raw.githubusercontent.com/dsrscientist/DSData/master/happiness_score_dataset.csv\"\n",
    "\n",
    "\n",
    "df = pd.read_csv(url)\n",
    "\n",
    "# Extract the first 6 letters of each country and create a new column\n",
    "df['first_five_letters'] = df['Country'].str[:6]\n",
    "\n",
    "# Display the DataFrame\n",
    "print(df.head())\n"
   ]
  },
  {
   "cell_type": "code",
   "execution_count": 11,
   "id": "dd1349da",
   "metadata": {},
   "outputs": [
    {
     "name": "stdout",
     "output_type": "stream",
     "text": [
      "['This', 'is', 'a', 'Valid_String123', 'and', 'Another_Valid_123', 'Invalid', 'String', 'and', 'spaces', 'not', 'allowed']\n"
     ]
    }
   ],
   "source": [
    "# Q 10 Write a Python program to match a string that contains only upper and lowercase letters, numbers, and underscores.\n",
    "\n",
    "\n",
    "def find_valid_strings(text):\n",
    "\n",
    "    pattern = r'\\b[a-zA-Z0-9_]+\\b'\n",
    "\n",
    " \n",
    "    valid_strings = re.findall(pattern, text)\n",
    "\n",
    "    return valid_strings\n",
    "\n",
    "\n",
    "sample_text = \"This is a Valid_String123 and Another_Valid_123. Invalid@String and spaces not allowed.\"\n",
    "\n",
    "\n",
    "result = find_valid_strings(sample_text)\n",
    "\n",
    "\n",
    "print(result)\n"
   ]
  },
  {
   "cell_type": "code",
   "execution_count": 12,
   "id": "99cbee17",
   "metadata": {},
   "outputs": [
    {
     "name": "stdout",
     "output_type": "stream",
     "text": [
      "Invalid IP address\n",
      "Original IP: 192.168.001.001\n",
      "IP without leading zeros: None\n"
     ]
    }
   ],
   "source": [
    "# Q12 Write a Python program to remove leading zeros from an IP address\n",
    "\n",
    "\n",
    "\n",
    "def remove_leading_zeros(ip_address):\n",
    "  \n",
    "    try:\n",
    "        ip_obj = ipaddress.ip_address(ip_address)\n",
    "        formatted_ip = str(ip_obj)\n",
    "        return formatted_ip\n",
    "    except ValueError:\n",
    "        print(\"Invalid IP address\")\n",
    "\n",
    "\n",
    "ip_with_zeros = \"192.168.001.001\"\n",
    "ip_without_zeros = remove_leading_zeros(ip_with_zeros)\n",
    "\n",
    "print(f'Original IP: {ip_with_zeros}')\n",
    "print(f'IP without leading zeros: {ip_without_zeros}')\n"
   ]
  },
  {
   "cell_type": "code",
   "execution_count": 13,
   "id": "1b464be9",
   "metadata": {},
   "outputs": [
    {
     "name": "stdout",
     "output_type": "stream",
     "text": [
      "August 15th 1947\n"
     ]
    }
   ],
   "source": [
    "# Q.13 Write a regular expression in python to match a date string in the form of Month \n",
    "# name followed by day number and year stored in a text file.\n",
    "\n",
    "\n",
    "Sample_text = 'On August 15th 1947 that India was declared independent from British colonialism, and the reins of control were handed over to the leaders of the Country'\n",
    "\n",
    "with open('sample_text.txt', 'r') as file:\n",
    "    \n",
    "    text_content = file.read()\n",
    "\n",
    "date_pattern = re.compile(r'\\b(?:August)\\s+\\d{1,2}(?:st|nd|rd|th)?\\s+\\d{4}\\b')\n",
    "\n",
    "matches = date_pattern.findall(text_content)\n",
    "\n",
    "\n",
    "for match in matches:\n",
    "    print(match)\n",
    "\n",
    "    "
   ]
  },
  {
   "cell_type": "code",
   "execution_count": 14,
   "id": "67d98c6e",
   "metadata": {},
   "outputs": [
    {
     "name": "stdout",
     "output_type": "stream",
     "text": [
      "Found words:\n",
      "fox\n",
      "dog\n"
     ]
    }
   ],
   "source": [
    "# Q 15  Write a Python program to search some literals strings in a string. \n",
    "\n",
    "sample_text = 'The quick brown fox jumps over the lazy dog.'\n",
    "\n",
    "searched_words = ['fox', 'dog', 'horse']\n",
    "\n",
    "def search_literals(input_string, searched_words):\n",
    "    \n",
    "    found_words = [word for word in searched_words if word in input_string]\n",
    "    \n",
    "    return found_words\n",
    "\n",
    "found_literals = search_literals(sample_text, searched_words)\n",
    "\n",
    "\n",
    "print(\"Found words:\")\n",
    "for word in found_literals:\n",
    "    print(word)\n"
   ]
  },
  {
   "cell_type": "code",
   "execution_count": 15,
   "id": "d2e02ca4",
   "metadata": {},
   "outputs": [
    {
     "name": "stdout",
     "output_type": "stream",
     "text": [
      "'fox' found at position 16\n"
     ]
    }
   ],
   "source": [
    "# Q16 Write a Python program to search a literals string in a string and also find the location within the original string where the pattern occurs\n",
    "\n",
    "sample_text = 'The quick brown fox jumps over the lazy dog.'\n",
    "    \n",
    "searched_words = 'fox'\n",
    "    \n",
    "\n",
    "def search_literal(input_string, searched_words):\n",
    "    \n",
    "    position = input_string.find(searched_words)\n",
    "    \n",
    "    return position\n",
    "\n",
    "found_position = search_literal(sample_text, searched_words)\n",
    "\n",
    "\n",
    "if found_position != -1:\n",
    "    \n",
    "    print(f\"'{searched_words}' found at position {found_position}\")\n",
    "    \n",
    "else:\n",
    "    print(f\"'{searched_words}' not found in the sample text.\")\n",
    "    \n"
   ]
  },
  {
   "cell_type": "code",
   "execution_count": 16,
   "id": "b99a94e2",
   "metadata": {},
   "outputs": [
    {
     "name": "stdout",
     "output_type": "stream",
     "text": [
      "Pattern 'exercises' found at positions:\n",
      "Start: 7, End: 16\n",
      "Start: 22, End: 31\n",
      "Start: 36, End: 45\n"
     ]
    }
   ],
   "source": [
    "# Q 17  Write a Python program to find the substrings within a string.\n",
    "\n",
    "\n",
    "\n",
    "sample_text = 'Python exercises, PHP exercises, C# exercises'\n",
    "\n",
    "pattern = 'exercises'\n",
    "\n",
    "\n",
    "positions = [(match.start(), match.end()) for match in re.finditer(pattern, sample_text)]\n",
    "\n",
    "if positions:\n",
    "    \n",
    "    print(f\"Pattern '{pattern}' found at positions:\")\n",
    "    \n",
    "    for start, end in positions:\n",
    "        \n",
    "        print(f\"Start: {start}, End: {end}\")\n",
    "else:\n",
    "    print(f\"Pattern '{pattern}' not found in the sample text.\")\n"
   ]
  },
  {
   "cell_type": "code",
   "execution_count": 17,
   "id": "0d69f2f1",
   "metadata": {},
   "outputs": [
    {
     "name": "stdout",
     "output_type": "stream",
     "text": [
      "Pattern 'exercises' found 3 time(s) at positions:\n",
      "Start: 7, End: 16\n",
      "Start: 22, End: 31\n",
      "Start: 36, End: 45\n"
     ]
    }
   ],
   "source": [
    "# Q 18 Write a Python program to find the occurrence and position of the substrings within a string.\n",
    "\n",
    "\n",
    "sample_text = 'Python exercises, PHP exercises, C# exercises'\n",
    "\n",
    "pattern = 'exercises'\n",
    "\n",
    "matches = list(re.finditer(pattern, sample_text))\n",
    "\n",
    "if matches:\n",
    "    \n",
    "    print(f\"Pattern '{pattern}' found {len(matches)} time(s) at positions:\")\n",
    "    \n",
    "    print(\"\\n\".join([f\"Start: {match.start()}, End: {match.end()}\" for match in matches]))\n",
    "    \n",
    "else:\n",
    "    \n",
    "    print(f\"Pattern '{pattern}' not found in the sample text.\")\n",
    "    "
   ]
  },
  {
   "cell_type": "code",
   "execution_count": 18,
   "id": "733f9b57",
   "metadata": {},
   "outputs": [
    {
     "name": "stdout",
     "output_type": "stream",
     "text": [
      "Original Date: 2023-12-25\n",
      "Converted Date: 25-12-2023\n"
     ]
    }
   ],
   "source": [
    "# Q 19 Write a Python program to convert a date of yyyy-mm-dd format to dd-mm-yyyy format.\n",
    "\n",
    "\n",
    "def convert_date_format(input_date):\n",
    "\n",
    "    try:\n",
    "        \n",
    "        return datetime.strptime(input_date, '%Y-%m-%d').strftime('%d-%m-%Y')\n",
    "    \n",
    "    except ValueError:\n",
    "        \n",
    "        return \"Invalid date format\"\n",
    "\n",
    "input_date = '2023-12-25'\n",
    "\n",
    "converted_date = convert_date_format(input_date)\n",
    "\n",
    "\n",
    "print(f\"Original Date: {input_date}\")\n",
    "\n",
    "print(f\"Converted Date: {converted_date}\")\n"
   ]
  },
  {
   "cell_type": "code",
   "execution_count": 19,
   "id": "49a542de",
   "metadata": {},
   "outputs": [
    {
     "name": "stdout",
     "output_type": "stream",
     "text": [
      "['01.12', '145.8', '3.01', '27.25', '0.25']\n"
     ]
    }
   ],
   "source": [
    "# Q 20 Create a function in python to find all decimal numbers with a precision of 1 or 2 in a string.\n",
    "# The use of the re.compile() method is mandatory.\n",
    "\n",
    "sample_text = \"01.12 0132.123 2.31875 145.8 3.01 27.25 0.25\"\n",
    "\n",
    "def find_decimal_numbers(input_string):\n",
    "    \n",
    "    pattern = re.compile(r'\\b\\d+\\.\\d{1,2}\\b')\n",
    "    \n",
    "    return pattern.findall(input_string)\n",
    "\n",
    "decimal_numbers = find_decimal_numbers(sample_text)\n",
    "\n",
    "print(decimal_numbers)\n"
   ]
  },
  {
   "cell_type": "code",
   "execution_count": 20,
   "id": "4baf849e",
   "metadata": {},
   "outputs": [
    {
     "name": "stdout",
     "output_type": "stream",
     "text": [
      "25, Position: (14, 15)\n",
      "99, Position: (17, 18)\n",
      "10, Position: (40, 41)\n"
     ]
    }
   ],
   "source": [
    "# Q 21 Write a Python program to separate and print the numbers and their position of a given string.\n",
    "\n",
    "sample_text = 'The price is $25.99 and the quantity is 10.'\n",
    "\n",
    "def separate_and_print_numbers(input_string):\n",
    "    \n",
    "    for match in re.finditer(r'\\b\\d+\\b', input_string):\n",
    "        \n",
    "        print(f\"{match.group()}, Position: ({match.start()}, {match.end() - 1})\")\n",
    "\n",
    "        \n",
    "separate_and_print_numbers(sample_text)\n",
    "\n"
   ]
  },
  {
   "cell_type": "code",
   "execution_count": 21,
   "id": "ef1c9723",
   "metadata": {},
   "outputs": [
    {
     "name": "stdout",
     "output_type": "stream",
     "text": [
      "Maximum Numeric Value: 950\n"
     ]
    }
   ],
   "source": [
    "# Q 22 Write a regular expression in python program to extract maximum/largest numeric value from a string.\n",
    "\n",
    "sample_text = 'My marks in each semester are: 947, 896, 926, 524, 734, 950, 642'\n",
    "\n",
    "import re\n",
    "\n",
    "def extract_maximum_numeric_value(input_string):\n",
    "    \n",
    "    matches = [int(match) for match in re.findall(r'\\b\\d+\\b', input_string)]\n",
    "    \n",
    "    if matches:\n",
    "       \n",
    "        return max(matches)\n",
    "    \n",
    "    else:\n",
    "        return None  \n",
    "    \n",
    "\n",
    "max_numeric_value = extract_maximum_numeric_value(sample_text)\n",
    "\n",
    "print(f\"Maximum Numeric Value: {max_numeric_value}\")\n"
   ]
  },
  {
   "cell_type": "code",
   "execution_count": 22,
   "id": "9dd3d11a",
   "metadata": {},
   "outputs": [
    {
     "name": "stdout",
     "output_type": "stream",
     "text": [
      "Regular Expression Is An Important Topic In Python\n"
     ]
    }
   ],
   "source": [
    "# Q -23 Create a function in python to insert spaces between words starting with capital letters.\n",
    "\n",
    "sample_text = \"RegularExpressionIsAnImportantTopicInPython\"\n",
    "\n",
    "def insert_spaces(input_string):\n",
    "    \n",
    "    spaced_words = []\n",
    "    \n",
    "    current_word = \"\"\n",
    "\n",
    "    for char in input_string:\n",
    "        \n",
    "        if char.isupper() and current_word:\n",
    "            \n",
    "            spaced_words.append(current_word)\n",
    "            \n",
    "            current_word = char\n",
    "            \n",
    "        else:\n",
    "            current_word += char\n",
    "\n",
    "    if current_word:\n",
    "        \n",
    "        spaced_words.append(current_word)\n",
    "\n",
    "    return ' '.join(spaced_words)\n",
    "\n",
    "\n",
    "\n",
    "result = insert_spaces(sample_text)\n",
    "\n",
    "print(result)\n"
   ]
  },
  {
   "cell_type": "code",
   "execution_count": 23,
   "id": "0b25b8fd",
   "metadata": {},
   "outputs": [
    {
     "name": "stdout",
     "output_type": "stream",
     "text": [
      "Regular Expression Is An Important Topic In Python\n"
     ]
    }
   ],
   "source": [
    "# Q -23 Create a function in python to insert spaces between words starting with capital letters.\n",
    "\n",
    "sample_text = \"RegularExpressionIsAnImportantTopicInPython\"\n",
    "\n",
    "def insert_spaces(input_string):\n",
    "    \n",
    "    spaced_string = re.sub(r'([a-z])([A-Z])', r'\\1 \\2', input_string)\n",
    "    \n",
    "    return spaced_string\n",
    "\n",
    "\n",
    "result = insert_spaces(sample_text)\n",
    "\n",
    "print(result)\n"
   ]
  },
  {
   "cell_type": "code",
   "execution_count": 24,
   "id": "36534138",
   "metadata": {},
   "outputs": [
    {
     "name": "stdout",
     "output_type": "stream",
     "text": [
      "['The', 'Quick', 'Brown', 'Fox', 'Jumps', 'Over', 'The', 'Lazy', 'Dog']\n"
     ]
    }
   ],
   "source": [
    "# Q 24 - Python regex to find sequences of one upper case letter followed by lower case letters\n",
    "\n",
    "sample_text = \"The Quick Brown Fox Jumps Over The Lazy Dog\"\n",
    "\n",
    "def find_sequences(input_string):\n",
    "    \n",
    "    pattern = re.compile(r'\\b[A-Z][a-z]*\\b')\n",
    "    \n",
    "    return pattern.findall(input_string)\n",
    "\n",
    "\n",
    "result = find_sequences(sample_text)\n",
    "\n",
    "print(result)\n"
   ]
  },
  {
   "cell_type": "code",
   "execution_count": 25,
   "id": "35958710",
   "metadata": {},
   "outputs": [
    {
     "name": "stdout",
     "output_type": "stream",
     "text": [
      "Hello world\n"
     ]
    }
   ],
   "source": [
    "# Q 25-Write a Python program to remove continuous duplicate words from Sentence using Regular Expression.\n",
    "\n",
    "sample_text = \"Hello hello world world\"\n",
    "\n",
    "def remove_continuous_duplicates(input_sentence):\n",
    "    \n",
    "    pattern = re.compile(r'\\b(\\w+)(\\s+\\1)+\\b', flags=re.IGNORECASE) \n",
    "    \n",
    "    cleaned_sentence = pattern.sub(r'\\1', input_sentence)\n",
    "    \n",
    "    return cleaned_sentence\n",
    "\n",
    "\n",
    "\n",
    "result = remove_continuous_duplicates(sample_text)\n",
    "\n",
    "print(result)\n"
   ]
  },
  {
   "cell_type": "code",
   "execution_count": 26,
   "id": "8fbc1c19",
   "metadata": {},
   "outputs": [
    {
     "name": "stdout",
     "output_type": "stream",
     "text": [
      "Yes with alphanumeric character: True\n"
     ]
    }
   ],
   "source": [
    "# Q 26- Write a python program using RegEx to accept string ending with alphanumeric character.\n",
    "\n",
    "sample_text = \"Hello123\"\n",
    "\n",
    "def ends_with_alphanumeric(input_string):\n",
    "    \n",
    "    pattern = re.compile(r'\\w$')\n",
    "    \n",
    "    return bool(pattern.search(input_string))\n",
    "\n",
    "\n",
    "result = ends_with_alphanumeric(sample_text)\n",
    "\n",
    "if result:\n",
    "    \n",
    "    print (\"Yes with alphanumeric character:\", result)\n",
    "    \n",
    "else: \n",
    "    \n",
    "    print (\"No match\")\n"
   ]
  },
  {
   "cell_type": "code",
   "execution_count": 27,
   "id": "9613264d",
   "metadata": {},
   "outputs": [
    {
     "name": "stdout",
     "output_type": "stream",
     "text": [
      "['#Doltiwal', '#xyzabc', '#Demonetization']\n"
     ]
    }
   ],
   "source": [
    "# Q 27 Write a python program using RegEx to extract the hashtags.\n",
    "\n",
    "sample_text = \"\"\"RT @kapil_kausik: #Doltiwal I mean #xyzabc is \"hurt\" by #Demonetization as the same has rendered USELESS <ed><U+00A0><U+00BD><ed><U+00B1><U+0089> \"acquired funds\" No wo\"\"\"\n",
    "\n",
    "def extract_hashtags(input_text):\n",
    "    \n",
    "    pattern = re.compile(r'#\\w+')\n",
    "    \n",
    "    hashtags = pattern.findall(input_text)\n",
    "    \n",
    "    return hashtags\n",
    "\n",
    "result = extract_hashtags(sample_text)\n",
    "\n",
    "print(result)\n"
   ]
  },
  {
   "cell_type": "code",
   "execution_count": 28,
   "id": "84d703f2",
   "metadata": {},
   "outputs": [
    {
     "name": "stdout",
     "output_type": "stream",
     "text": [
      "@Jags123456 Bharat band on 28??<ed><ed>Those who are protesting #demonetization are all different party leaders\n"
     ]
    }
   ],
   "source": [
    "# Q 28 Write a python program using RegEx to remove <U+..> like symbols\n",
    "# Check the below sample text, there are strange symbols something of the sort <U+..> all over the place.\n",
    "# You need to come up with a general Regex expression that will cover all such symbols.\n",
    "\n",
    "\n",
    "sample_text = \"@Jags123456 Bharat band on 28??<ed><U+00A0><U+00BD><ed><U+00B8><U+0082>Those who are protesting #demonetization are all different party leaders\"\n",
    "\n",
    "def remove_unicode_symbols(input_text):\n",
    "    \n",
    "    pattern = re.compile(r'<U\\+[0-9A-Fa-f]+>')\n",
    "    \n",
    "    cleaned_text = pattern.sub('', input_text)\n",
    "    \n",
    "    \n",
    "    return cleaned_text\n",
    "\n",
    "\n",
    "\n",
    "result = remove_unicode_symbols(sample_text)\n",
    "\n",
    "print(result)\n"
   ]
  },
  {
   "cell_type": "code",
   "execution_count": 29,
   "id": "f835bfc8",
   "metadata": {},
   "outputs": [
    {
     "name": "stdout",
     "output_type": "stream",
     "text": [
      "['12-09-1992', '15-12-1999']\n"
     ]
    }
   ],
   "source": [
    "# Q 29 Write a python program to extract dates from the text stored in the text file.\n",
    "\n",
    "file_path = 'sample_text1.txt'\n",
    "\n",
    "def extract_dates_from_file(file_path):\n",
    "    \n",
    "    with open(file_path, 'r') as file:\n",
    "        \n",
    "        text_content = file.read()\n",
    "\n",
    "    date_pattern = re.compile(r'\\b\\d{2}-\\d{2}-\\d{4}\\b')\n",
    "    \n",
    "    dates = date_pattern.findall(text_content)\n",
    "\n",
    "    return dates\n",
    "\n",
    "\n",
    "\n",
    "dates_found = extract_dates_from_file(file_path)\n",
    "\n",
    "\n",
    "print(dates_found)\n"
   ]
  },
  {
   "cell_type": "code",
   "execution_count": 30,
   "id": "79b76852",
   "metadata": {},
   "outputs": [
    {
     "name": "stdout",
     "output_type": "stream",
     "text": [
      " following example creates  ArrayList  a capacity   elements. 4 elements   added   ArrayList   ArrayList  trimmed accordingly.\n"
     ]
    }
   ],
   "source": [
    "# Q30 Create a function in python to remove all words from a string of length between 2 and 4.\n",
    "# The use of the re.compile() method is mandatory.\n",
    "\n",
    "\n",
    "sample_text = \"The following example creates an ArrayList with a capacity of 50 elements. 4 elements are then added to the ArrayList and the ArrayList is trimmed accordingly.\"\n",
    "\n",
    "def remove_words_between_length(input_string):\n",
    "    \n",
    "    pattern = re.compile(r'\\b\\w{2,4}\\b')\n",
    "    \n",
    "    cleaned_string = pattern.sub('', input_string)\n",
    "    \n",
    "    return cleaned_string\n",
    "\n",
    "\n",
    "\n",
    "result = remove_words_between_length(sample_text)\n",
    "\n",
    "print(result)\n"
   ]
  },
  {
   "cell_type": "code",
   "execution_count": null,
   "id": "f42b6951",
   "metadata": {},
   "outputs": [],
   "source": []
  }
 ],
 "metadata": {
  "kernelspec": {
   "display_name": "Python 3 (ipykernel)",
   "language": "python",
   "name": "python3"
  },
  "language_info": {
   "codemirror_mode": {
    "name": "ipython",
    "version": 3
   },
   "file_extension": ".py",
   "mimetype": "text/x-python",
   "name": "python",
   "nbconvert_exporter": "python",
   "pygments_lexer": "ipython3",
   "version": "3.10.9"
  }
 },
 "nbformat": 4,
 "nbformat_minor": 5
}
